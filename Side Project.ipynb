{
 "cells": [
  {
   "cell_type": "code",
   "execution_count": 87,
   "metadata": {
    "collapsed": true
   },
   "outputs": [],
   "source": [
    "import pandas as pd\n",
    "import numpy as np"
   ]
  },
  {
   "cell_type": "markdown",
   "metadata": {},
   "source": [
    "### Create the Template for final file"
   ]
  },
  {
   "cell_type": "code",
   "execution_count": 16,
   "metadata": {
    "collapsed": true
   },
   "outputs": [],
   "source": [
    "DMT_TEMPLATE = pd.read_excel('DMT TEMPLATE.xlsx')"
   ]
  },
  {
   "cell_type": "code",
   "execution_count": 17,
   "metadata": {
    "collapsed": false
   },
   "outputs": [
    {
     "data": {
      "text/html": [
       "<div>\n",
       "<table border=\"1\" class=\"dataframe\">\n",
       "  <thead>\n",
       "    <tr style=\"text-align: right;\">\n",
       "      <th></th>\n",
       "      <th>SOR</th>\n",
       "      <th>Source_Tables</th>\n",
       "      <th>Source_Column</th>\n",
       "      <th>Target_Column_Name</th>\n",
       "      <th>Target_Definition</th>\n",
       "      <th>Transformation_Rule</th>\n",
       "      <th>Project_Name</th>\n",
       "      <th>Duplicate</th>\n",
       "    </tr>\n",
       "  </thead>\n",
       "  <tbody>\n",
       "  </tbody>\n",
       "</table>\n",
       "</div>"
      ],
      "text/plain": [
       "Empty DataFrame\n",
       "Columns: [SOR, Source_Tables, Source_Column, Target_Column_Name, Target_Definition, Transformation_Rule, Project_Name, Duplicate]\n",
       "Index: []"
      ]
     },
     "execution_count": 17,
     "metadata": {},
     "output_type": "execute_result"
    }
   ],
   "source": [
    "DMT_TEMPLATE.head()"
   ]
  },
  {
   "cell_type": "code",
   "execution_count": 23,
   "metadata": {
    "collapsed": false
   },
   "outputs": [],
   "source": [
    "FLPMap = pd.read_excel('FLP_PLM_Mapping_052016.xlsx', sheetname = 'Data Mapping', header=0 ,skiprows=11, usecols=['Target Table Name', 'Target Column Name', 'Source Table Name', 'Source Column Name', 'Transformation Rule', 'Join Condition'])\n",
    "FLPMap.insert(6,'SOR', 'FLP')\n",
    "FLPMap.columns = ['Target_Table_Name', 'Target_Column_Name', 'Source_Table_Name', 'Source_Column_Name', 'Transformation_Rule', 'Join_Condition', 'SOR']"
   ]
  },
  {
   "cell_type": "code",
   "execution_count": 24,
   "metadata": {
    "collapsed": false
   },
   "outputs": [
    {
     "data": {
      "text/html": [
       "<div>\n",
       "<table border=\"1\" class=\"dataframe\">\n",
       "  <thead>\n",
       "    <tr style=\"text-align: right;\">\n",
       "      <th></th>\n",
       "      <th>Target_Table_Name</th>\n",
       "      <th>Target_Column_Name</th>\n",
       "      <th>Source_Table_Name</th>\n",
       "      <th>Source_Column_Name</th>\n",
       "      <th>Transformation_Rule</th>\n",
       "      <th>Join_Condition</th>\n",
       "      <th>SOR</th>\n",
       "    </tr>\n",
       "  </thead>\n",
       "  <tbody>\n",
       "    <tr>\n",
       "      <th>0</th>\n",
       "      <td>NaN</td>\n",
       "      <td>FACILITYID</td>\n",
       "      <td>FLP_FLPEXP02_stg</td>\n",
       "      <td>FLP_COL_DEALER_NBR, \\nFLP_COL_CTLR_CD</td>\n",
       "      <td>FLP_COL_DEALER_NBR||FLP_COL_CTLR_CD</td>\n",
       "      <td>BASE.AGREEMENT AS A\\nJOIN  STG.FLP_FLPEXP02_st...</td>\n",
       "      <td>FLP</td>\n",
       "    </tr>\n",
       "    <tr>\n",
       "      <th>1</th>\n",
       "      <td>NaN</td>\n",
       "      <td>APPLICATION</td>\n",
       "      <td>Hardcode</td>\n",
       "      <td>FLP</td>\n",
       "      <td>FLP'</td>\n",
       "      <td>NaN</td>\n",
       "      <td>FLP</td>\n",
       "    </tr>\n",
       "    <tr>\n",
       "      <th>2</th>\n",
       "      <td>NaN</td>\n",
       "      <td>BANK</td>\n",
       "      <td>FLP_FLPEXP01_stg</td>\n",
       "      <td>FLP_DLR_CO_BANK_CO_NBR</td>\n",
       "      <td>substring(FLP_DLR_CO_BANK_CO_NBR from 3 for 2)</td>\n",
       "      <td>AGREEMENT AS A\\nJOIN  FLP_FLPEXP02_stg AS F1\\n...</td>\n",
       "      <td>FLP</td>\n",
       "    </tr>\n",
       "    <tr>\n",
       "      <th>3</th>\n",
       "      <td>NaN</td>\n",
       "      <td>COMPANY_NUM</td>\n",
       "      <td>Hardcode</td>\n",
       "      <td>NaN</td>\n",
       "      <td>NaN</td>\n",
       "      <td>NaN</td>\n",
       "      <td>FLP</td>\n",
       "    </tr>\n",
       "    <tr>\n",
       "      <th>4</th>\n",
       "      <td>NaN</td>\n",
       "      <td>ALT_BORR_ID</td>\n",
       "      <td>NaN</td>\n",
       "      <td>NaN</td>\n",
       "      <td>NaN</td>\n",
       "      <td>NaN</td>\n",
       "      <td>FLP</td>\n",
       "    </tr>\n",
       "  </tbody>\n",
       "</table>\n",
       "</div>"
      ],
      "text/plain": [
       "   Target_Table_Name Target_Column_Name Source_Table_Name  \\\n",
       "0                NaN         FACILITYID  FLP_FLPEXP02_stg   \n",
       "1                NaN        APPLICATION          Hardcode   \n",
       "2                NaN               BANK  FLP_FLPEXP01_stg   \n",
       "3                NaN        COMPANY_NUM          Hardcode   \n",
       "4                NaN        ALT_BORR_ID               NaN   \n",
       "\n",
       "                      Source_Column_Name  \\\n",
       "0  FLP_COL_DEALER_NBR, \\nFLP_COL_CTLR_CD   \n",
       "1                                    FLP   \n",
       "2         FLP_DLR_CO_BANK_CO_NBR           \n",
       "3                                    NaN   \n",
       "4                                    NaN   \n",
       "\n",
       "                              Transformation_Rule  \\\n",
       "0             FLP_COL_DEALER_NBR||FLP_COL_CTLR_CD   \n",
       "1                                            FLP'   \n",
       "2  substring(FLP_DLR_CO_BANK_CO_NBR from 3 for 2)   \n",
       "3                                             NaN   \n",
       "4                                             NaN   \n",
       "\n",
       "                                      Join_Condition  SOR  \n",
       "0  BASE.AGREEMENT AS A\\nJOIN  STG.FLP_FLPEXP02_st...  FLP  \n",
       "1                                                NaN  FLP  \n",
       "2  AGREEMENT AS A\\nJOIN  FLP_FLPEXP02_stg AS F1\\n...  FLP  \n",
       "3                                                NaN  FLP  \n",
       "4                                                NaN  FLP  "
      ]
     },
     "execution_count": 24,
     "metadata": {},
     "output_type": "execute_result"
    }
   ],
   "source": [
    "FLPMap.head()"
   ]
  },
  {
   "cell_type": "code",
   "execution_count": 7,
   "metadata": {
    "collapsed": false
   },
   "outputs": [],
   "source": [
    "SHAW_Map = pd.read_excel('SHAW Source to Target Mapping - EDW to PLM_012016.xlsx', sheetname = 'Data Mapping', header=0 ,skiprows=11, usecols=['Target Table Name', 'Target Column Name', 'Source Table Name', 'Source Column Name', 'Transformation Rule', 'Join Condition'])\n",
    "SHAW_Map.insert(6, 'SOR', 'SHAW')"
   ]
  },
  {
   "cell_type": "code",
   "execution_count": 8,
   "metadata": {
    "collapsed": false
   },
   "outputs": [
    {
     "data": {
      "text/html": [
       "<div>\n",
       "<table border=\"1\" class=\"dataframe\">\n",
       "  <thead>\n",
       "    <tr style=\"text-align: right;\">\n",
       "      <th></th>\n",
       "      <th>Target Table Name</th>\n",
       "      <th>Target Column Name</th>\n",
       "      <th>Source Table Name</th>\n",
       "      <th>Source Column Name</th>\n",
       "      <th>Transformation Rule</th>\n",
       "      <th>Join Condition</th>\n",
       "      <th>SOR</th>\n",
       "    </tr>\n",
       "  </thead>\n",
       "  <tbody>\n",
       "    <tr>\n",
       "      <th>0</th>\n",
       "      <td>Loan - Terms and Conditions</td>\n",
       "      <td>NaN</td>\n",
       "      <td>NaN</td>\n",
       "      <td>NaN</td>\n",
       "      <td>NaN</td>\n",
       "      <td>NaN</td>\n",
       "      <td>SHAW</td>\n",
       "    </tr>\n",
       "    <tr>\n",
       "      <th>1</th>\n",
       "      <td>Loan</td>\n",
       "      <td>NaN</td>\n",
       "      <td>NaN</td>\n",
       "      <td>NaN</td>\n",
       "      <td>NaN</td>\n",
       "      <td>NaN</td>\n",
       "      <td>SHAW</td>\n",
       "    </tr>\n",
       "    <tr>\n",
       "      <th>2</th>\n",
       "      <td>Loan</td>\n",
       "      <td>NaN</td>\n",
       "      <td>NaN</td>\n",
       "      <td>NaN</td>\n",
       "      <td>NaN</td>\n",
       "      <td>NaN</td>\n",
       "      <td>SHAW</td>\n",
       "    </tr>\n",
       "    <tr>\n",
       "      <th>3</th>\n",
       "      <td>Customer - Hierarchy</td>\n",
       "      <td>NaN</td>\n",
       "      <td>NaN</td>\n",
       "      <td>NaN</td>\n",
       "      <td>NaN</td>\n",
       "      <td>NaN</td>\n",
       "      <td>SHAW</td>\n",
       "    </tr>\n",
       "    <tr>\n",
       "      <th>4</th>\n",
       "      <td>Loan- TDR</td>\n",
       "      <td>NaN</td>\n",
       "      <td>NaN</td>\n",
       "      <td>NaN</td>\n",
       "      <td>NaN</td>\n",
       "      <td>NaN</td>\n",
       "      <td>SHAW</td>\n",
       "    </tr>\n",
       "  </tbody>\n",
       "</table>\n",
       "</div>"
      ],
      "text/plain": [
       "             Target Table Name  Target Column Name Source Table Name  \\\n",
       "0  Loan - Terms and Conditions                 NaN               NaN   \n",
       "1                         Loan                 NaN               NaN   \n",
       "2                         Loan                 NaN               NaN   \n",
       "3         Customer - Hierarchy                 NaN               NaN   \n",
       "4                    Loan- TDR                 NaN               NaN   \n",
       "\n",
       "  Source Column Name Transformation Rule Join Condition   SOR  \n",
       "0                NaN                 NaN            NaN  SHAW  \n",
       "1                NaN                 NaN            NaN  SHAW  \n",
       "2                NaN                 NaN            NaN  SHAW  \n",
       "3                NaN                 NaN            NaN  SHAW  \n",
       "4                NaN                 NaN            NaN  SHAW  "
      ]
     },
     "execution_count": 8,
     "metadata": {},
     "output_type": "execute_result"
    }
   ],
   "source": [
    "SHAW_Map.head()"
   ]
  },
  {
   "cell_type": "code",
   "execution_count": 15,
   "metadata": {
    "collapsed": false
   },
   "outputs": [],
   "source": [
    "ResiMTG_Map = pd.read_excel('ResiMTG Mapping_Punit_092015.xlsx', sheetname = 'Data Mapping', header=0 ,skiprows=11, usecols=['Target Table Name', 'EDW Perf Column Name', 'EDW PERF Table Name', 'Proposed Transformation Rule', 'Join Condition'])\n",
    "ResiMTG_Map.insert(5, 'SOR', 'MTG')"
   ]
  },
  {
   "cell_type": "code",
   "execution_count": 17,
   "metadata": {
    "collapsed": false
   },
   "outputs": [
    {
     "data": {
      "text/html": [
       "<div>\n",
       "<table border=\"1\" class=\"dataframe\">\n",
       "  <thead>\n",
       "    <tr style=\"text-align: right;\">\n",
       "      <th></th>\n",
       "      <th>Target Table Name</th>\n",
       "      <th>EDW PERF Table Name</th>\n",
       "      <th>EDW Perf Column Name</th>\n",
       "      <th>Proposed Transformation Rule</th>\n",
       "      <th>Join Condition</th>\n",
       "      <th>SOR</th>\n",
       "    </tr>\n",
       "  </thead>\n",
       "  <tbody>\n",
       "    <tr>\n",
       "      <th>0</th>\n",
       "      <td>NaN</td>\n",
       "      <td>ccardm.PASSPORTMASTERSTAGE_PERF</td>\n",
       "      <td>MSPLASTRUNDATE</td>\n",
       "      <td>SELECT CASE WHEN EXTRACT(DAY FROM MSPLASTRUNDA...</td>\n",
       "      <td>NaN</td>\n",
       "      <td>MTG</td>\n",
       "    </tr>\n",
       "    <tr>\n",
       "      <th>1</th>\n",
       "      <td>NaN</td>\n",
       "      <td>ccardm.PASSPORTMASTERSTAGE_PERF</td>\n",
       "      <td>LOANNUMBER</td>\n",
       "      <td>SELECT LOANNUMBER\\nFROM ccardm.PASSPORTMASTERS...</td>\n",
       "      <td>NaN</td>\n",
       "      <td>MTG</td>\n",
       "    </tr>\n",
       "    <tr>\n",
       "      <th>2</th>\n",
       "      <td>NaN</td>\n",
       "      <td>NaN</td>\n",
       "      <td>NaN</td>\n",
       "      <td>Hardcoded as 'Residential Mortgage'</td>\n",
       "      <td>NaN</td>\n",
       "      <td>MTG</td>\n",
       "    </tr>\n",
       "    <tr>\n",
       "      <th>3</th>\n",
       "      <td>NaN</td>\n",
       "      <td>NaN</td>\n",
       "      <td>NaN</td>\n",
       "      <td>NaN</td>\n",
       "      <td>NaN</td>\n",
       "      <td>MTG</td>\n",
       "    </tr>\n",
       "    <tr>\n",
       "      <th>4</th>\n",
       "      <td>NaN</td>\n",
       "      <td>NaN</td>\n",
       "      <td>NaN</td>\n",
       "      <td>NaN</td>\n",
       "      <td>NaN</td>\n",
       "      <td>MTG</td>\n",
       "    </tr>\n",
       "  </tbody>\n",
       "</table>\n",
       "</div>"
      ],
      "text/plain": [
       "   Target Table Name              EDW PERF Table Name EDW Perf Column Name  \\\n",
       "0                NaN  ccardm.PASSPORTMASTERSTAGE_PERF       MSPLASTRUNDATE   \n",
       "1                NaN  ccardm.PASSPORTMASTERSTAGE_PERF           LOANNUMBER   \n",
       "2                NaN                              NaN                  NaN   \n",
       "3                NaN                              NaN                  NaN   \n",
       "4                NaN                              NaN                  NaN   \n",
       "\n",
       "                        Proposed Transformation Rule Join Condition  SOR  \n",
       "0  SELECT CASE WHEN EXTRACT(DAY FROM MSPLASTRUNDA...            NaN  MTG  \n",
       "1  SELECT LOANNUMBER\\nFROM ccardm.PASSPORTMASTERS...            NaN  MTG  \n",
       "2                Hardcoded as 'Residential Mortgage'            NaN  MTG  \n",
       "3                                                NaN            NaN  MTG  \n",
       "4                                                NaN            NaN  MTG  "
      ]
     },
     "execution_count": 17,
     "metadata": {},
     "output_type": "execute_result"
    }
   ],
   "source": [
    "ResiMTG_Map.head()"
   ]
  },
  {
   "cell_type": "code",
   "execution_count": 109,
   "metadata": {
    "collapsed": false
   },
   "outputs": [],
   "source": [
    "EDO_SHAW_Map = pd.read_excel('EDO SHAW - ChargeOffRecovery Mapping Specification_042017.xlsx', sheetname = 'Data Mapping', header=0 , skiprows=11, usecols=['Target Table Name', 'Target Column Name', 'Source Table Name', 'Source Column Name' , 'Transformation Rule', 'Join Condition'])\n",
    "EDO_SHAW_Map.columns = ['Target_Table_Name', 'Target_Column_Name', 'Source_Table_Name', 'Source_Column_Name', 'Transformation_Rule', 'Join_Condition']"
   ]
  },
  {
   "cell_type": "code",
   "execution_count": 55,
   "metadata": {
    "collapsed": false
   },
   "outputs": [
    {
     "data": {
      "text/html": [
       "<div>\n",
       "<table border=\"1\" class=\"dataframe\">\n",
       "  <thead>\n",
       "    <tr style=\"text-align: right;\">\n",
       "      <th></th>\n",
       "      <th>Target_Table_Name</th>\n",
       "      <th>Target_Column_Name</th>\n",
       "      <th>Source_Table_Name</th>\n",
       "      <th>Source_Column_Name</th>\n",
       "      <th>Transformation_Rule</th>\n",
       "      <th>Join_Condition</th>\n",
       "    </tr>\n",
       "  </thead>\n",
       "  <tbody>\n",
       "    <tr>\n",
       "      <th>0</th>\n",
       "      <td>SHAW_ChargeOffRecoveries</td>\n",
       "      <td>TapeYear</td>\n",
       "      <td>ETL</td>\n",
       "      <td>NaN</td>\n",
       "      <td>Month end year for the extract period.  See co...</td>\n",
       "      <td>NaN</td>\n",
       "    </tr>\n",
       "    <tr>\n",
       "      <th>1</th>\n",
       "      <td>SHAW_ChargeOffRecoveries</td>\n",
       "      <td>TapeMonth</td>\n",
       "      <td>ETL</td>\n",
       "      <td>NaN</td>\n",
       "      <td>Month end month for the extract period.  See c...</td>\n",
       "      <td>NaN</td>\n",
       "    </tr>\n",
       "    <tr>\n",
       "      <th>2</th>\n",
       "      <td>SHAW_ChargeOffRecoveries</td>\n",
       "      <td>MonthEnd</td>\n",
       "      <td>ETL</td>\n",
       "      <td>NaN</td>\n",
       "      <td>Monthend timestamp for extract period.</td>\n",
       "      <td>NaN</td>\n",
       "    </tr>\n",
       "    <tr>\n",
       "      <th>3</th>\n",
       "      <td>SHAW_ChargeOffRecoveries</td>\n",
       "      <td>FullAccountNumber</td>\n",
       "      <td>AGREEMENT_IDENTIFICATION</td>\n",
       "      <td>agmt_id_val</td>\n",
       "      <td>SELECT \\nCASE \\n    WHEN substring(agmt_id_val...</td>\n",
       "      <td>NaN</td>\n",
       "    </tr>\n",
       "    <tr>\n",
       "      <th>4</th>\n",
       "      <td>SHAW_ChargeOffRecoveries</td>\n",
       "      <td>agmt_id</td>\n",
       "      <td>AGREEMENT</td>\n",
       "      <td>agmt_id</td>\n",
       "      <td>1:1</td>\n",
       "      <td>NaN</td>\n",
       "    </tr>\n",
       "  </tbody>\n",
       "</table>\n",
       "</div>"
      ],
      "text/plain": [
       "          Target_Table_Name Target_Column_Name         Source_Table_Name  \\\n",
       "0  SHAW_ChargeOffRecoveries           TapeYear                       ETL   \n",
       "1  SHAW_ChargeOffRecoveries          TapeMonth                       ETL   \n",
       "2  SHAW_ChargeOffRecoveries           MonthEnd                       ETL   \n",
       "3  SHAW_ChargeOffRecoveries  FullAccountNumber  AGREEMENT_IDENTIFICATION   \n",
       "4  SHAW_ChargeOffRecoveries            agmt_id                 AGREEMENT   \n",
       "\n",
       "  Source_Column_Name                                Transformation_Rule  \\\n",
       "0                NaN  Month end year for the extract period.  See co...   \n",
       "1                NaN  Month end month for the extract period.  See c...   \n",
       "2                NaN             Monthend timestamp for extract period.   \n",
       "3        agmt_id_val  SELECT \\nCASE \\n    WHEN substring(agmt_id_val...   \n",
       "4            agmt_id                                                1:1   \n",
       "\n",
       "  Join_Condition  \n",
       "0            NaN  \n",
       "1            NaN  \n",
       "2            NaN  \n",
       "3            NaN  \n",
       "4            NaN  "
      ]
     },
     "execution_count": 55,
     "metadata": {},
     "output_type": "execute_result"
    }
   ],
   "source": [
    "EDO_SHAW_Map.head()"
   ]
  },
  {
   "cell_type": "code",
   "execution_count": 110,
   "metadata": {
    "collapsed": true
   },
   "outputs": [],
   "source": [
    "EDO_SHAW_Map_2 = pd.read_excel('EDO SHAW - ChargeOffRecovery Mapping Specification_042017 - Copy.xlsx', sheetname = 'Data Mapping', header=0 , skiprows=11, usecols=['Target Table Name', 'Target Column Name', 'Source Table Name', 'Source Column Name' , 'Transformation Rule', 'Join Condition'])\n",
    "EDO_SHAW_Map_2.columns = ['Target_Table_Name', 'Target_Column_Name', 'Source_Table_Name', 'Source_Column_Name', 'Transformation_Rule', 'Join_Condition']"
   ]
  },
  {
   "cell_type": "code",
   "execution_count": 57,
   "metadata": {
    "collapsed": false
   },
   "outputs": [
    {
     "data": {
      "text/html": [
       "<div>\n",
       "<table border=\"1\" class=\"dataframe\">\n",
       "  <thead>\n",
       "    <tr style=\"text-align: right;\">\n",
       "      <th></th>\n",
       "      <th>Target_Table_Name</th>\n",
       "      <th>Target_Column_Name</th>\n",
       "      <th>Source_Table_Name</th>\n",
       "      <th>Source_Column_Name</th>\n",
       "      <th>Transformation_Rule</th>\n",
       "      <th>Join_Condition</th>\n",
       "    </tr>\n",
       "  </thead>\n",
       "  <tbody>\n",
       "    <tr>\n",
       "      <th>0</th>\n",
       "      <td>SHAW_ChargeOffRecoveries</td>\n",
       "      <td>TapeYear</td>\n",
       "      <td>ETL</td>\n",
       "      <td>NaN</td>\n",
       "      <td>Month end year for the extract period.  See co...</td>\n",
       "      <td>NaN</td>\n",
       "    </tr>\n",
       "    <tr>\n",
       "      <th>1</th>\n",
       "      <td>SHAW_ChargeOffRecoveries</td>\n",
       "      <td>TapeMonth</td>\n",
       "      <td>ETL</td>\n",
       "      <td>NaN</td>\n",
       "      <td>Month end month for the extract period.  See c...</td>\n",
       "      <td>NaN</td>\n",
       "    </tr>\n",
       "    <tr>\n",
       "      <th>2</th>\n",
       "      <td>SHAW_ChargeOffRecoveries</td>\n",
       "      <td>MonthEnd</td>\n",
       "      <td>ETL</td>\n",
       "      <td>NaN</td>\n",
       "      <td>Monthend timestamp for extract period.</td>\n",
       "      <td>NaN</td>\n",
       "    </tr>\n",
       "    <tr>\n",
       "      <th>3</th>\n",
       "      <td>SHAW_ChargeOffRecoveries</td>\n",
       "      <td>FullAccountNumber</td>\n",
       "      <td>AGREEMENT_IDENTIFICATION</td>\n",
       "      <td>agmt_id_val</td>\n",
       "      <td>SELECT \\nCASE \\n    WHEN substring(agmt_id_val...</td>\n",
       "      <td>NaN</td>\n",
       "    </tr>\n",
       "    <tr>\n",
       "      <th>4</th>\n",
       "      <td>SHAW_ChargeOffRecoveries</td>\n",
       "      <td>agmt_id</td>\n",
       "      <td>AGREEMENT</td>\n",
       "      <td>agmt_id</td>\n",
       "      <td>1:1</td>\n",
       "      <td>NaN</td>\n",
       "    </tr>\n",
       "  </tbody>\n",
       "</table>\n",
       "</div>"
      ],
      "text/plain": [
       "          Target_Table_Name Target_Column_Name         Source_Table_Name  \\\n",
       "0  SHAW_ChargeOffRecoveries           TapeYear                       ETL   \n",
       "1  SHAW_ChargeOffRecoveries          TapeMonth                       ETL   \n",
       "2  SHAW_ChargeOffRecoveries           MonthEnd                       ETL   \n",
       "3  SHAW_ChargeOffRecoveries  FullAccountNumber  AGREEMENT_IDENTIFICATION   \n",
       "4  SHAW_ChargeOffRecoveries            agmt_id                 AGREEMENT   \n",
       "\n",
       "  Source_Column_Name                                Transformation_Rule  \\\n",
       "0                NaN  Month end year for the extract period.  See co...   \n",
       "1                NaN  Month end month for the extract period.  See c...   \n",
       "2                NaN             Monthend timestamp for extract period.   \n",
       "3        agmt_id_val  SELECT \\nCASE \\n    WHEN substring(agmt_id_val...   \n",
       "4            agmt_id                                                1:1   \n",
       "\n",
       "  Join_Condition  \n",
       "0            NaN  \n",
       "1            NaN  \n",
       "2            NaN  \n",
       "3            NaN  \n",
       "4            NaN  "
      ]
     },
     "execution_count": 57,
     "metadata": {},
     "output_type": "execute_result"
    }
   ],
   "source": [
    "EDO_SHAW_Map_2.head()"
   ]
  },
  {
   "cell_type": "markdown",
   "metadata": {},
   "source": [
    "### How to create the Duplicate column by checking Target Column, Source Column and Source Table "
   ]
  },
  {
   "cell_type": "code",
   "execution_count": 123,
   "metadata": {
    "collapsed": true
   },
   "outputs": [],
   "source": [
    "EDO_SHAW_Map_2['Duplicate'] = np.where((EDO_SHAW_Map_2['Target_Column_Name'] == EDO_SHAW_Map['Target_Column_Name']) & (EDO_SHAW_Map_2['Source_Table_Name'] == EDO_SHAW_Map['Source_Table_Name']) & \n",
    "(EDO_SHAW_Map_2['Source_Column_Name'] == EDO_SHAW_Map['Source_Column_Name']), 'Y', 'N')"
   ]
  },
  {
   "cell_type": "code",
   "execution_count": 124,
   "metadata": {
    "collapsed": false
   },
   "outputs": [
    {
     "data": {
      "text/html": [
       "<div>\n",
       "<table border=\"1\" class=\"dataframe\">\n",
       "  <thead>\n",
       "    <tr style=\"text-align: right;\">\n",
       "      <th></th>\n",
       "      <th>Target_Table_Name</th>\n",
       "      <th>Target_Column_Name</th>\n",
       "      <th>Source_Table_Name</th>\n",
       "      <th>Source_Column_Name</th>\n",
       "      <th>Transformation_Rule</th>\n",
       "      <th>Join_Condition</th>\n",
       "      <th>Duplicate</th>\n",
       "    </tr>\n",
       "  </thead>\n",
       "  <tbody>\n",
       "    <tr>\n",
       "      <th>0</th>\n",
       "      <td>SHAW_ChargeOffRecoveries</td>\n",
       "      <td>TapeYear</td>\n",
       "      <td>ETLK</td>\n",
       "      <td>NaN</td>\n",
       "      <td>Month end year for the extract period.  See co...</td>\n",
       "      <td>NaN</td>\n",
       "      <td>N</td>\n",
       "    </tr>\n",
       "    <tr>\n",
       "      <th>1</th>\n",
       "      <td>SHAW_ChargeOffRecoveries</td>\n",
       "      <td>TapeMonth</td>\n",
       "      <td>ETL</td>\n",
       "      <td>K</td>\n",
       "      <td>Month end month for the extract period.  See c...</td>\n",
       "      <td>NaN</td>\n",
       "      <td>N</td>\n",
       "    </tr>\n",
       "    <tr>\n",
       "      <th>2</th>\n",
       "      <td>SHAW_ChargeOffRecoveries</td>\n",
       "      <td>MonthEnd</td>\n",
       "      <td>ETL</td>\n",
       "      <td>NaN</td>\n",
       "      <td>Monthend timestamp for extract period.</td>\n",
       "      <td>NaN</td>\n",
       "      <td>N</td>\n",
       "    </tr>\n",
       "    <tr>\n",
       "      <th>3</th>\n",
       "      <td>SHAW_ChargeOffRecoveries</td>\n",
       "      <td>FullAccountNumber</td>\n",
       "      <td>AGREEMENT_IDENTIFICATION</td>\n",
       "      <td>agmt_id_val</td>\n",
       "      <td>SELECT \\nCASE \\n    WHEN substring(agmt_id_val...</td>\n",
       "      <td>NaN</td>\n",
       "      <td>Y</td>\n",
       "    </tr>\n",
       "    <tr>\n",
       "      <th>4</th>\n",
       "      <td>SHAW_ChargeOffRecoveries</td>\n",
       "      <td>agmt_id</td>\n",
       "      <td>AGREEMENT</td>\n",
       "      <td>agmt_id</td>\n",
       "      <td>1:1</td>\n",
       "      <td>NaN</td>\n",
       "      <td>Y</td>\n",
       "    </tr>\n",
       "  </tbody>\n",
       "</table>\n",
       "</div>"
      ],
      "text/plain": [
       "          Target_Table_Name Target_Column_Name         Source_Table_Name  \\\n",
       "0  SHAW_ChargeOffRecoveries           TapeYear                      ETLK   \n",
       "1  SHAW_ChargeOffRecoveries          TapeMonth                       ETL   \n",
       "2  SHAW_ChargeOffRecoveries           MonthEnd                       ETL   \n",
       "3  SHAW_ChargeOffRecoveries  FullAccountNumber  AGREEMENT_IDENTIFICATION   \n",
       "4  SHAW_ChargeOffRecoveries            agmt_id                 AGREEMENT   \n",
       "\n",
       "  Source_Column_Name                                Transformation_Rule  \\\n",
       "0                NaN  Month end year for the extract period.  See co...   \n",
       "1                  K  Month end month for the extract period.  See c...   \n",
       "2                NaN             Monthend timestamp for extract period.   \n",
       "3        agmt_id_val  SELECT \\nCASE \\n    WHEN substring(agmt_id_val...   \n",
       "4            agmt_id                                                1:1   \n",
       "\n",
       "  Join_Condition Duplicate  \n",
       "0            NaN         N  \n",
       "1            NaN         N  \n",
       "2            NaN         N  \n",
       "3            NaN         Y  \n",
       "4            NaN         Y  "
      ]
     },
     "execution_count": 124,
     "metadata": {},
     "output_type": "execute_result"
    }
   ],
   "source": [
    "EDO_SHAW_Map_2.head()"
   ]
  },
  {
   "cell_type": "code",
   "execution_count": null,
   "metadata": {
    "collapsed": true
   },
   "outputs": [],
   "source": [
    "DMT_Update = DMT_TEMPLATE.append(FLPMap, ignore_index=True)\n",
    "#The below assigns all values under the SOR column to the code you specify.\n",
    "#DMT_Update = DMT_Update.assign(SOR='FLP')"
   ]
  },
  {
   "cell_type": "code",
   "execution_count": 10,
   "metadata": {
    "collapsed": false
   },
   "outputs": [],
   "source": [
    "DMT_Update = DMT_Update.append(SHAW_Map, ignore_index=True)\n",
    "#DMT_Update = DMT_Update.assign(SOR='SHAW')"
   ]
  },
  {
   "cell_type": "code",
   "execution_count": 29,
   "metadata": {
    "collapsed": false
   },
   "outputs": [
    {
     "data": {
      "text/html": [
       "<div>\n",
       "<table border=\"1\" class=\"dataframe\">\n",
       "  <thead>\n",
       "    <tr style=\"text-align: right;\">\n",
       "      <th></th>\n",
       "      <th>Duplicate(Y/N)</th>\n",
       "      <th>Join Condition</th>\n",
       "      <th>Project Name</th>\n",
       "      <th>SOR</th>\n",
       "      <th>Source Column</th>\n",
       "      <th>Source Column Name</th>\n",
       "      <th>Source Table Name</th>\n",
       "      <th>Source Tables</th>\n",
       "      <th>Target Column Name</th>\n",
       "      <th>Target Definition</th>\n",
       "      <th>Target Table Name</th>\n",
       "      <th>Transformation Rule</th>\n",
       "    </tr>\n",
       "  </thead>\n",
       "  <tbody>\n",
       "    <tr>\n",
       "      <th>0</th>\n",
       "      <td>NaN</td>\n",
       "      <td>BASE.AGREEMENT AS A\\nJOIN  STG.FLP_FLPEXP02_st...</td>\n",
       "      <td>NaN</td>\n",
       "      <td>FLP</td>\n",
       "      <td>NaN</td>\n",
       "      <td>FLP_COL_DEALER_NBR, \\nFLP_COL_CTLR_CD</td>\n",
       "      <td>FLP_FLPEXP02_stg</td>\n",
       "      <td>NaN</td>\n",
       "      <td>FACILITYID</td>\n",
       "      <td>NaN</td>\n",
       "      <td>NaN</td>\n",
       "      <td>FLP_COL_DEALER_NBR||FLP_COL_CTLR_CD</td>\n",
       "    </tr>\n",
       "    <tr>\n",
       "      <th>1</th>\n",
       "      <td>NaN</td>\n",
       "      <td>NaN</td>\n",
       "      <td>NaN</td>\n",
       "      <td>FLP</td>\n",
       "      <td>NaN</td>\n",
       "      <td>FLP</td>\n",
       "      <td>Hardcode</td>\n",
       "      <td>NaN</td>\n",
       "      <td>APPLICATION</td>\n",
       "      <td>NaN</td>\n",
       "      <td>NaN</td>\n",
       "      <td>FLP'</td>\n",
       "    </tr>\n",
       "    <tr>\n",
       "      <th>2</th>\n",
       "      <td>NaN</td>\n",
       "      <td>AGREEMENT AS A\\nJOIN  FLP_FLPEXP02_stg AS F1\\n...</td>\n",
       "      <td>NaN</td>\n",
       "      <td>FLP</td>\n",
       "      <td>NaN</td>\n",
       "      <td>FLP_DLR_CO_BANK_CO_NBR</td>\n",
       "      <td>FLP_FLPEXP01_stg</td>\n",
       "      <td>NaN</td>\n",
       "      <td>BANK</td>\n",
       "      <td>NaN</td>\n",
       "      <td>NaN</td>\n",
       "      <td>substring(FLP_DLR_CO_BANK_CO_NBR from 3 for 2)</td>\n",
       "    </tr>\n",
       "    <tr>\n",
       "      <th>3</th>\n",
       "      <td>NaN</td>\n",
       "      <td>NaN</td>\n",
       "      <td>NaN</td>\n",
       "      <td>FLP</td>\n",
       "      <td>NaN</td>\n",
       "      <td>NaN</td>\n",
       "      <td>Hardcode</td>\n",
       "      <td>NaN</td>\n",
       "      <td>COMPANY_NUM</td>\n",
       "      <td>NaN</td>\n",
       "      <td>NaN</td>\n",
       "      <td>NaN</td>\n",
       "    </tr>\n",
       "    <tr>\n",
       "      <th>4</th>\n",
       "      <td>NaN</td>\n",
       "      <td>NaN</td>\n",
       "      <td>NaN</td>\n",
       "      <td>FLP</td>\n",
       "      <td>NaN</td>\n",
       "      <td>NaN</td>\n",
       "      <td>NaN</td>\n",
       "      <td>NaN</td>\n",
       "      <td>ALT_BORR_ID</td>\n",
       "      <td>NaN</td>\n",
       "      <td>NaN</td>\n",
       "      <td>NaN</td>\n",
       "    </tr>\n",
       "  </tbody>\n",
       "</table>\n",
       "</div>"
      ],
      "text/plain": [
       "  Duplicate(Y/N)                                     Join Condition  \\\n",
       "0            NaN  BASE.AGREEMENT AS A\\nJOIN  STG.FLP_FLPEXP02_st...   \n",
       "1            NaN                                                NaN   \n",
       "2            NaN  AGREEMENT AS A\\nJOIN  FLP_FLPEXP02_stg AS F1\\n...   \n",
       "3            NaN                                                NaN   \n",
       "4            NaN                                                NaN   \n",
       "\n",
       "  Project Name  SOR Source Column                     Source Column Name  \\\n",
       "0          NaN  FLP           NaN  FLP_COL_DEALER_NBR, \\nFLP_COL_CTLR_CD   \n",
       "1          NaN  FLP           NaN                                    FLP   \n",
       "2          NaN  FLP           NaN         FLP_DLR_CO_BANK_CO_NBR           \n",
       "3          NaN  FLP           NaN                                    NaN   \n",
       "4          NaN  FLP           NaN                                    NaN   \n",
       "\n",
       "  Source Table Name Source Tables Target Column Name Target Definition  \\\n",
       "0  FLP_FLPEXP02_stg           NaN         FACILITYID               NaN   \n",
       "1          Hardcode           NaN        APPLICATION               NaN   \n",
       "2  FLP_FLPEXP01_stg           NaN               BANK               NaN   \n",
       "3          Hardcode           NaN        COMPANY_NUM               NaN   \n",
       "4               NaN           NaN        ALT_BORR_ID               NaN   \n",
       "\n",
       "  Target Table Name                             Transformation Rule  \n",
       "0               NaN             FLP_COL_DEALER_NBR||FLP_COL_CTLR_CD  \n",
       "1               NaN                                            FLP'  \n",
       "2               NaN  substring(FLP_DLR_CO_BANK_CO_NBR from 3 for 2)  \n",
       "3               NaN                                             NaN  \n",
       "4               NaN                                             NaN  "
      ]
     },
     "execution_count": 29,
     "metadata": {},
     "output_type": "execute_result"
    }
   ],
   "source": [
    "DMT_Update.head()"
   ]
  },
  {
   "cell_type": "markdown",
   "metadata": {},
   "source": [
    "### Outputting the resulting file to an excel file"
   ]
  },
  {
   "cell_type": "code",
   "execution_count": 12,
   "metadata": {
    "collapsed": true
   },
   "outputs": [],
   "source": [
    "DMT_Update.to_excel(\"output.xlsx\", sheet_name='Sheet_name_1')"
   ]
  },
  {
   "cell_type": "code",
   "execution_count": 125,
   "metadata": {
    "collapsed": false
   },
   "outputs": [],
   "source": [
    "EDO_SHAW_Map_2.to_excel(\"duplicates.xlsx\", sheet_name='Sheet_name_1')"
   ]
  },
  {
   "cell_type": "code",
   "execution_count": null,
   "metadata": {
    "collapsed": true
   },
   "outputs": [],
   "source": []
  }
 ],
 "metadata": {
  "kernelspec": {
   "display_name": "Python 3",
   "language": "python",
   "name": "python3"
  },
  "language_info": {
   "codemirror_mode": {
    "name": "ipython",
    "version": 3
   },
   "file_extension": ".py",
   "mimetype": "text/x-python",
   "name": "python",
   "nbconvert_exporter": "python",
   "pygments_lexer": "ipython3",
   "version": "3.5.6"
  }
 },
 "nbformat": 4,
 "nbformat_minor": 0
}
